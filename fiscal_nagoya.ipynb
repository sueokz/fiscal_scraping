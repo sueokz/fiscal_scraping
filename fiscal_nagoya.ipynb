{
 "cells": [
  {
   "cell_type": "code",
   "execution_count": 1,
   "id": "3be6c73b-c835-42cf-9ccf-2dbfa52d65fb",
   "metadata": {},
   "outputs": [],
   "source": [
    "#ライブラリをインストール\n",
    "from bs4 import BeautifulSoup\n",
    "import requests\n",
    "import pandas as pd\n",
    "import time"
   ]
  },
  {
   "cell_type": "code",
   "execution_count": 2,
   "id": "aeae75da-896e-4d5b-b9d5-2a8471df9f98",
   "metadata": {},
   "outputs": [],
   "source": [
    "#決算予定の株を取得\n",
    "url_base=\"https://www.traders.co.jp/market_jp/earnings_calendar\"\n",
    "r_base=requests.get(url_base)\n",
    "time.sleep(3)"
   ]
  },
  {
   "cell_type": "code",
   "execution_count": 3,
   "id": "72ce4064-d320-44dc-b181-c6b3d171779d",
   "metadata": {},
   "outputs": [],
   "source": [
    "#htmlを取得(1)\n",
    "soup_base=BeautifulSoup(r_base.text,\"html.parser\")"
   ]
  },
  {
   "cell_type": "code",
   "execution_count": 4,
   "id": "888d6d17-d0c1-4a7b-9be2-7c699d7681c7",
   "metadata": {},
   "outputs": [],
   "source": [
    "#soup"
   ]
  },
  {
   "cell_type": "code",
   "execution_count": 5,
   "id": "7c903090-992b-4534-a521-30c29ff23a9f",
   "metadata": {},
   "outputs": [],
   "source": [
    "#classを取得\n",
    "contents_base=soup_base.find(class_=\"data_table table inner_elm\")"
   ]
  },
  {
   "cell_type": "code",
   "execution_count": 6,
   "id": "b1a79e0d-8d2e-4014-8e9c-0149169a6fca",
   "metadata": {},
   "outputs": [],
   "source": [
    "#contents"
   ]
  },
  {
   "cell_type": "code",
   "execution_count": 7,
   "id": "e51e7bc1-8e6c-41ec-a9e9-ed3b01ba6761",
   "metadata": {},
   "outputs": [],
   "source": [
    "#aタグを取得\n",
    "get_a_base=contents_base.find_all(\"a\")"
   ]
  },
  {
   "cell_type": "code",
   "execution_count": 8,
   "id": "8740dabd-b0e1-46ed-b0d3-d136199e40b3",
   "metadata": {},
   "outputs": [],
   "source": [
    "#get_a_base"
   ]
  },
  {
   "cell_type": "code",
   "execution_count": 9,
   "id": "20bc3199-cc3f-45a8-9758-5fc8ca5ec6b8",
   "metadata": {},
   "outputs": [],
   "source": [
    "#テキストに変換+[]に入れていく\n",
    "financial=[]\n",
    "for i in range(0,len(get_a_base),3):\n",
    "    try:\n",
    "        text_=get_a_base[i].text\n",
    "        financial.append(text_)\n",
    "    except:\n",
    "        pass"
   ]
  },
  {
   "cell_type": "code",
   "execution_count": 10,
   "id": "43d474d8-4aba-40fe-9732-35314a9e69e5",
   "metadata": {},
   "outputs": [],
   "source": [
    "#financial"
   ]
  },
  {
   "cell_type": "code",
   "execution_count": 15,
   "id": "8a58eeea-56e0-46b6-92da-9142cbfba6b5",
   "metadata": {},
   "outputs": [],
   "source": [
    "#テキストに変換+[]に入れていく\n",
    "for i in range(0,len(get_a_base),3):\n",
    "    try:\n",
    "        text_=get_a_base[i].text\n",
    "        fs.append(text_)\n",
    "    except:\n",
    "        pass"
   ]
  },
  {
   "cell_type": "code",
   "execution_count": 16,
   "id": "18df3fa2-de79-4409-966f-e85b0f6e9d6d",
   "metadata": {},
   "outputs": [],
   "source": [
    "#名古屋取引所に上場しているか調べる"
   ]
  },
  {
   "cell_type": "code",
   "execution_count": 17,
   "id": "81e7be70-f27d-44a2-a0a7-2567ae805f3b",
   "metadata": {},
   "outputs": [],
   "source": [
    "#名古屋取引所のurlを取得\n",
    "url_nagoya=\"https://ja.wikipedia.org/wiki/Category:%E5%90%8D%E8%A8%BC%E3%83%97%E3%83%AC%E3%83%9F%E3%82%A2%E4%B8%8A%E5%A0%B4%E4%BC%81%E6%A5%AD\"\n",
    "r_nagoya=requests.get(url_nagoya)\n",
    "time.sleep(3)"
   ]
  },
  {
   "cell_type": "code",
   "execution_count": 18,
   "id": "4bae6b4f-971c-46f5-87a5-a84d0f034b7a",
   "metadata": {},
   "outputs": [],
   "source": [
    "#htmlを取得(1)\n",
    "soup_nagoya=BeautifulSoup(r_nagoya.content,\"html.parser\",from_encoding='utf-8')"
   ]
  },
  {
   "cell_type": "code",
   "execution_count": 19,
   "id": "80b020f6-ad9f-48e7-bb48-0053ac5579f4",
   "metadata": {},
   "outputs": [],
   "source": [
    "#soup_nagoya"
   ]
  },
  {
   "cell_type": "code",
   "execution_count": 20,
   "id": "35161edb-411f-498f-8225-b6e9a6354df6",
   "metadata": {},
   "outputs": [],
   "source": [
    "contents_nagoya=soup_nagoya.find_all(class_=\"mw-category-group\")"
   ]
  },
  {
   "cell_type": "code",
   "execution_count": 21,
   "id": "47b66137-7f7e-4326-9825-94692ca0a295",
   "metadata": {},
   "outputs": [],
   "source": [
    "#contents_nagoya"
   ]
  },
  {
   "cell_type": "code",
   "execution_count": 22,
   "id": "b35e540a-1424-403f-b8c3-9a47d37c69ea",
   "metadata": {},
   "outputs": [],
   "source": [
    "nagaya_stocks = [] \n",
    "\n",
    "for category_group in contents_nagoya:\n",
    "    li_tags = category_group.find_all('li')\n",
    "    for li_tag in li_tags:\n",
    "        a_tag = li_tag.find('a') \n",
    "        if a_tag:\n",
    "            title = a_tag.get('title')\n",
    "            nagaya_stocks.append(title)"
   ]
  },
  {
   "cell_type": "code",
   "execution_count": 23,
   "id": "05b09b0b-ae34-4449-bdcd-e4afb8f5026b",
   "metadata": {},
   "outputs": [],
   "source": [
    "remove_strings = {\"Category:\"}\n",
    "\n",
    "nagaya_stocks_re= [stock.translate(str.maketrans(\"\", \"\", \"\".join(remove_strings))) for stock in nagaya_stocks]"
   ]
  },
  {
   "cell_type": "code",
   "execution_count": 24,
   "id": "c429211b-fe13-47f3-9ddd-aed5a41a7010",
   "metadata": {},
   "outputs": [],
   "source": [
    "#nagaya_stocks_re"
   ]
  },
  {
   "cell_type": "code",
   "execution_count": 28,
   "id": "061122e5-97c5-41ec-b027-5ef6ca8bccb9",
   "metadata": {},
   "outputs": [
    {
     "name": "stdout",
     "output_type": "stream",
     "text": [
      "['壱番屋', '五洋建設', 'ジーフット', '住友理工', '積水ハウス', 'ダイセキ', 'ダイセキ環境ソリューション', 'ダイトウボウ', 'タキヒヨー', '中部電力', 'トヨタ紡織', 'ネクステージ (自動車販売)', 'ブラス (企業)']\n"
     ]
    }
   ],
   "source": [
    "matching_stocks = [string for string in nagaya_stocks_re if any(substring in string for substring in financial)]\n",
    "\n",
    "print(matching_stocks)"
   ]
  }
 ],
 "metadata": {
  "kernelspec": {
   "display_name": "Python 3",
   "language": "python",
   "name": "python3"
  },
  "language_info": {
   "codemirror_mode": {
    "name": "ipython",
    "version": 3
   },
   "file_extension": ".py",
   "mimetype": "text/x-python",
   "name": "python",
   "nbconvert_exporter": "python",
   "pygments_lexer": "ipython3",
   "version": "3.8.8"
  }
 },
 "nbformat": 4,
 "nbformat_minor": 5
}
